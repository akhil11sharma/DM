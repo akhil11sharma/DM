{
  "nbformat": 4,
  "nbformat_minor": 0,
  "metadata": {
    "colab": {
      "provenance": []
    },
    "kernelspec": {
      "name": "python3",
      "display_name": "Python 3"
    },
    "language_info": {
      "name": "python"
    }
  },
  "cells": [
    {
      "cell_type": "markdown",
      "source": [
        "# **Importing Library**"
      ],
      "metadata": {
        "id": "OQv-3AIPqJ9D"
      }
    },
    {
      "cell_type": "code",
      "execution_count": 4,
      "metadata": {
        "id": "nQNeA-Zjmu5U"
      },
      "outputs": [],
      "source": [
        "import numpy as np\n",
        "import pandas as pd"
      ]
    },
    {
      "cell_type": "markdown",
      "source": [
        "# **Entering the data in Dict. Format**"
      ],
      "metadata": {
        "id": "n9mVB9UBqOSP"
      }
    },
    {
      "cell_type": "code",
      "source": [
        "\n",
        "Data = {\n",
        "    'Name': ['Yash', 'Ramesh', 'Struti', 'Rohit', 'Priya', 'Jatin'],\n",
        "    'Age': [22, 23, 110, 22, 23, 22],\n",
        "    'Income': [22000, 22000, 1000000000000, 22000, 21000, 23000],\n",
        "    'Gender': ['M', 'M', 'F', 'Male', 'M', 'F'],\n",
        "    'Marks': [95, 92, 93, np.nan, 90, 92]\n",
        "}\n",
        "\n",
        "df=pd.DataFrame(Data)#using Dataframe function for printing dic. data in tabular form\n"
      ],
      "metadata": {
        "id": "6mS532LAnZkz"
      },
      "execution_count": 6,
      "outputs": []
    },
    {
      "cell_type": "code",
      "source": [
        "print(df)"
      ],
      "metadata": {
        "colab": {
          "base_uri": "https://localhost:8080/"
        },
        "id": "b7exP-iqp2kj",
        "outputId": "6f01ed67-4f74-43ce-ab74-3394ede93f99"
      },
      "execution_count": 7,
      "outputs": [
        {
          "output_type": "stream",
          "name": "stdout",
          "text": [
            "     Name  Age         Income Gender  Marks\n",
            "0    Yash   22          22000      M   95.0\n",
            "1  Ramesh   23          22000      M   92.0\n",
            "2  Struti  110  1000000000000      F   93.0\n",
            "3   Rohit   22          22000   Male    NaN\n",
            "4   Priya   23          21000      M   90.0\n",
            "5   Jatin   22          23000      F   92.0\n"
          ]
        }
      ]
    },
    {
      "cell_type": "code",
      "source": [
        "df['Marks'].fillna(df['Marks'].mean(), inplace=True)#filling the NAN value"
      ],
      "metadata": {
        "id": "Z72-JUp8qwBV"
      },
      "execution_count": 8,
      "outputs": []
    },
    {
      "cell_type": "code",
      "source": [
        "print(df)"
      ],
      "metadata": {
        "colab": {
          "base_uri": "https://localhost:8080/"
        },
        "id": "sA4QdDJCroIn",
        "outputId": "4bd15b90-3eff-4990-e357-c4dcab6aa6d3"
      },
      "execution_count": 9,
      "outputs": [
        {
          "output_type": "stream",
          "name": "stdout",
          "text": [
            "     Name  Age         Income Gender  Marks\n",
            "0    Yash   22          22000      M   95.0\n",
            "1  Ramesh   23          22000      M   92.0\n",
            "2  Struti  110  1000000000000      F   93.0\n",
            "3   Rohit   22          22000   Male   92.4\n",
            "4   Priya   23          21000      M   90.0\n",
            "5   Jatin   22          23000      F   92.0\n"
          ]
        }
      ]
    },
    {
      "cell_type": "code",
      "source": [
        "df['Gender'].replace('Male','M',inplace=True)#replacing the value\n",
        "print(df)"
      ],
      "metadata": {
        "colab": {
          "base_uri": "https://localhost:8080/"
        },
        "id": "BAaM_V-Nr0dH",
        "outputId": "a1ae719f-86de-4ef7-faa2-f3a7dd7fac22"
      },
      "execution_count": 13,
      "outputs": [
        {
          "output_type": "stream",
          "name": "stdout",
          "text": [
            "     Name  Age         Income Gender  Marks\n",
            "0    Yash   22          22000      M   95.0\n",
            "1  Ramesh   23          22000      M   92.0\n",
            "2  Struti  110  1000000000000      F   93.0\n",
            "3   Rohit   22          22000      M   92.4\n",
            "4   Priya   23          21000      M   90.0\n",
            "5   Jatin   22          23000      F   92.0\n"
          ]
        }
      ]
    },
    {
      "cell_type": "code",
      "source": [
        "df.loc[df['Age']>100,'Age']=np.nan#Truning Value NAN\n",
        "print(df)"
      ],
      "metadata": {
        "colab": {
          "base_uri": "https://localhost:8080/"
        },
        "id": "nf6EBTCbscw6",
        "outputId": "d986ca56-a1cd-4262-ca32-a20f02a938c9"
      },
      "execution_count": 16,
      "outputs": [
        {
          "output_type": "stream",
          "name": "stdout",
          "text": [
            "     Name   Age         Income Gender  Marks\n",
            "0    Yash  22.0          22000      M   95.0\n",
            "1  Ramesh  23.0          22000      M   92.0\n",
            "2  Struti   NaN  1000000000000      F   93.0\n",
            "3   Rohit  22.0          22000      M   92.4\n",
            "4   Priya  23.0          21000      M   90.0\n",
            "5   Jatin  22.0          23000      F   92.0\n"
          ]
        }
      ]
    },
    {
      "cell_type": "code",
      "source": [
        "df['Age'].fillna(df['Age'].mean(),inplace=True)#filling the NAN value\n",
        "print(df)"
      ],
      "metadata": {
        "colab": {
          "base_uri": "https://localhost:8080/"
        },
        "id": "X5zsGjJBtivT",
        "outputId": "e8bd231a-bbdb-481b-c3e4-d3ed60217600"
      },
      "execution_count": 18,
      "outputs": [
        {
          "output_type": "stream",
          "name": "stdout",
          "text": [
            "     Name   Age         Income Gender  Marks\n",
            "0    Yash  22.0          22000      M   95.0\n",
            "1  Ramesh  23.0          22000      M   92.0\n",
            "2  Struti  22.4  1000000000000      F   93.0\n",
            "3   Rohit  22.0          22000      M   92.4\n",
            "4   Priya  23.0          21000      M   90.0\n",
            "5   Jatin  22.0          23000      F   92.0\n"
          ]
        }
      ]
    },
    {
      "cell_type": "code",
      "source": [
        "q3=df['Income'].quantile(0.75)\n",
        "q1=df['Income'].quantile(0.25)\n",
        "IQR=q3-q1\n",
        "upper_limit=q3+1.5*IQR\n",
        "lower_limit=q1-1.5*IQR\n",
        "print(upper_limit)\n",
        "print(lower_limit)\n"
      ],
      "metadata": {
        "colab": {
          "base_uri": "https://localhost:8080/"
        },
        "id": "dMHfGv4Ft4Qh",
        "outputId": "2a7cf743-7ad7-4aa4-bd4d-d5d651f6ac1b"
      },
      "execution_count": 20,
      "outputs": [
        {
          "output_type": "stream",
          "name": "stdout",
          "text": [
            "23875.0\n",
            "20875.0\n"
          ]
        }
      ]
    },
    {
      "cell_type": "code",
      "source": [
        "df.loc[df['Income']>upper_limit,'Income']=upper_limit\n",
        "df.loc[df['Income']<lower_limit,'Income']=lower_limit\n",
        "print(df)#Filling the noise value with Upper and lower limit"
      ],
      "metadata": {
        "colab": {
          "base_uri": "https://localhost:8080/"
        },
        "id": "kKfLNVHUviNg",
        "outputId": "70666097-14af-473e-b016-923e400271e5"
      },
      "execution_count": 22,
      "outputs": [
        {
          "output_type": "stream",
          "name": "stdout",
          "text": [
            "     Name   Age  Income Gender  Marks\n",
            "0    Yash  22.0   22000      M   95.0\n",
            "1  Ramesh  23.0   22000      M   92.0\n",
            "2  Struti  22.4   23875      F   93.0\n",
            "3   Rohit  22.0   22000      M   92.4\n",
            "4   Priya  23.0   21000      M   90.0\n",
            "5   Jatin  22.0   23000      F   92.0\n"
          ]
        }
      ]
    },
    {
      "cell_type": "code",
      "source": [
        "Additional_data={\n",
        "    'Name': ['Yash', 'Ramesh', 'Struti', 'Rohit', 'Priya', 'Jatin'],\n",
        "    'Location': ['City 1', 'City 2', 'City 3', 'City 4', 'City 5', 'City 6'],\n",
        "    'Scholarship':[True,False,True,True,True,False]\n",
        "}\n",
        "DF2=pd.DataFrame(Additional_data)\n"
      ],
      "metadata": {
        "id": "eh7QXbtAwVDF"
      },
      "execution_count": 32,
      "outputs": []
    },
    {
      "cell_type": "code",
      "source": [
        "print(DF2)\n",
        "print(df)"
      ],
      "metadata": {
        "colab": {
          "base_uri": "https://localhost:8080/"
        },
        "id": "FzNgnhc4xlY2",
        "outputId": "58f7f5de-5f57-41ad-9464-6102b3a7310e"
      },
      "execution_count": 34,
      "outputs": [
        {
          "output_type": "stream",
          "name": "stdout",
          "text": [
            "     Name Location  Scholarship\n",
            "0    Yash   City 1         True\n",
            "1  Ramesh   City 2        False\n",
            "2  Struti   City 3         True\n",
            "3   Rohit   City 4         True\n",
            "4   Priya   City 5         True\n",
            "5   Jatin   City 6        False\n",
            "     Name   Age  Income Gender  Marks\n",
            "0    Yash  22.0   22000      M   95.0\n",
            "1  Ramesh  23.0   22000      M   92.0\n",
            "2  Struti  22.4   23875      F   93.0\n",
            "3   Rohit  22.0   22000      M   92.4\n",
            "4   Priya  23.0   21000      M   90.0\n",
            "5   Jatin  22.0   23000      F   92.0\n"
          ]
        }
      ]
    },
    {
      "cell_type": "code",
      "source": [
        "Merge=pd.merge(df,DF2,on='Name')#Merging the data\n",
        "print(Merge)"
      ],
      "metadata": {
        "colab": {
          "base_uri": "https://localhost:8080/"
        },
        "id": "0yU-hGL7x90D",
        "outputId": "2c705bb7-5846-455b-eb51-e61ed53b5547"
      },
      "execution_count": 35,
      "outputs": [
        {
          "output_type": "stream",
          "name": "stdout",
          "text": [
            "     Name   Age  Income Gender  Marks Location  Scholarship\n",
            "0    Yash  22.0   22000      M   95.0   City 1         True\n",
            "1  Ramesh  23.0   22000      M   92.0   City 2        False\n",
            "2  Struti  22.4   23875      F   93.0   City 3         True\n",
            "3   Rohit  22.0   22000      M   92.4   City 4         True\n",
            "4   Priya  23.0   21000      M   90.0   City 5         True\n",
            "5   Jatin  22.0   23000      F   92.0   City 6        False\n"
          ]
        }
      ]
    },
    {
      "cell_type": "code",
      "source": [
        "Merge.to_csv('merged_Data.csv', index=False)"
      ],
      "metadata": {
        "id": "ZJnQSM_wyoK3"
      },
      "execution_count": 36,
      "outputs": []
    },
    {
      "cell_type": "code",
      "source": [],
      "metadata": {
        "id": "799EHrWszMHl"
      },
      "execution_count": null,
      "outputs": []
    }
  ]
}